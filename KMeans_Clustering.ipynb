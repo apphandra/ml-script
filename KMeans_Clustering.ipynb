{
  "nbformat": 4,
  "nbformat_minor": 0,
  "metadata": {
    "colab": {
      "provenance": []
    },
    "kernelspec": {
      "name": "python3",
      "display_name": "Python 3"
    },
    "language_info": {
      "name": "python"
    }
  },
  "cells": [
    {
      "cell_type": "code",
      "execution_count": null,
      "metadata": {
        "id": "QHmTS4bnJ6SI"
      },
      "outputs": [],
      "source": [
        "import pandas as pd\n",
        "import numpy as np\n",
        "from sklearn.datasets import make_classification\n",
        "from sklearn.datasets import make_blobs\n",
        "import matplotlib.pyplot as plt\n",
        "import seaborn as sns\n",
        "from sklearn.preprocessing import StandardScaler\n",
        "from sklearn.cluster import KMeans\n",
        "from sklearn.metrics import silhouette_score\n",
        "from sklearn.preprocessing import MinMaxScaler\n",
        "\n",
        "##Elbow Method to find optimum number of cluster\n",
        "\n",
        "\n",
        "df=pd.DataFrame()\n",
        "wcss = []\n",
        "for i in range(1,11):\n",
        "    k_means = KMeans(n_clusters=i,init='k-means++', random_state=42)\n",
        "    k_means.fit(df)\n",
        "    wcss.append(k_means.inertia_)\n",
        "#plot elbow curve\n",
        "plt.plot(np.arange(1,11),wcss)\n",
        "plt.xlabel('Clusters')\n",
        "plt.ylabel('SSE')\n",
        "plt.show()"
      ]
    },
    {
      "cell_type": "code",
      "source": [
        "## Run Clustering and join cluster to original dataframe\n",
        "k_means_optimum = KMeans(n_clusters = 8, init = 'k-means++',  random_state=42)\n",
        "y = k_means_optimum.fit_predict(df)\n",
        "df['cluster']=y"
      ],
      "metadata": {
        "id": "7CX1PgTqKRTf"
      },
      "execution_count": null,
      "outputs": []
    },
    {
      "cell_type": "markdown",
      "source": [],
      "metadata": {
        "id": "IXytzlrxL0IZ"
      }
    }
  ]
}